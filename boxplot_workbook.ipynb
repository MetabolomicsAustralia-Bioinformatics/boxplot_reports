{
 "cells": [
  {
   "cell_type": "markdown",
   "metadata": {},
   "source": [
    "# Visualizing Boxplots"
   ]
  },
  {
   "cell_type": "code",
   "execution_count": 1,
   "metadata": {},
   "outputs": [],
   "source": [
    "%matplotlib inline\n",
    "import matplotlib\n",
    "import matplotlib.pyplot as plt\n",
    "\n",
    "import matplotlib.backends.backend_pdf\n",
    "\n",
    "import pandas as pd\n",
    "import numpy as np\n",
    "import time\n",
    "import os\n",
    "\n",
    "from boxplot_utils import *"
   ]
  },
  {
   "cell_type": "code",
   "execution_count": 2,
   "metadata": {},
   "outputs": [
    {
     "name": "stdout",
     "output_type": "stream",
     "text": [
      "Num. metabs = 199\n",
      "Grouping into 7 batches: first 6 of size 30, last of size 19\n"
     ]
    }
   ],
   "source": [
    "# read data as input\n",
    "fn_in = \"/Users/don/Desktop/Hamish McWilliam & SebastianMCG_5_OP_RU_Metaboanalyst_Final2.csv\"\n",
    "#fn_in = \"/Users/don/Documents/flask_boxplot_reports_v2/sample_data/kiryu_gcms_normalized.csv\"\n",
    "d0 = pd.read_csv(fn_in)\n",
    "\n",
    "grp_name_col = d0.columns[1]\n",
    "sample_name_col = d0.columns[0]\n",
    "metabs_ls = list(d0.columns)[2:]\n",
    "metabs_ls.sort()\n",
    "d0 = d0[list(d0.columns)[:2] + metabs_ls] \n",
    "# A more convoluted way of grabbing the list of groups\n",
    "# Because just using list(d0[grp_name_col]) doesn't preserve the group order\n",
    "groups_ls = []\n",
    "for index, row in d0.iterrows():\n",
    "    grp_name = str(row[grp_name_col])\n",
    "    if grp_name not in groups_ls:\n",
    "        groups_ls.append(grp_name)\n",
    "\n",
    "\n",
    "print(\"Num. metabs = %s\" % len(metabs_ls))\n",
    "batches_ls = batch_metabs(metabs_ls, batch_size=30)\n",
    "\n",
    "print(\"Grouping into %s batches: first %s of size 30, last of size %s\" % (len(batches_ls), len(batches_ls)-1, len(batches_ls[-1])))\n",
    "\n",
    "# Set some plot params\n",
    "matplotlib.rc('axes',edgecolor='grey')\n",
    "title_fontsize=11\n",
    "# colours_ls corresponds to colorbrewer's qualitative 7-class Set3\n",
    "colours_ls = [\"#8dd3c7\", \"#bebada\", \"#fb8072\", \"#ffffb3\", \"#80b1d3\", \"#fdb462\", \"#fdb462\", \"#b3de69\"]"
   ]
  },
  {
   "cell_type": "code",
   "execution_count": 3,
   "metadata": {},
   "outputs": [
    {
     "name": "stdout",
     "output_type": "stream",
     "text": [
      "batch 0: len(batch) = 30, num_rows = 6, num_cols = 5\n",
      "batch 1: len(batch) = 30, num_rows = 6, num_cols = 5\n",
      "batch 2: len(batch) = 30, num_rows = 6, num_cols = 5\n",
      "batch 3: len(batch) = 30, num_rows = 6, num_cols = 5\n",
      "batch 4: len(batch) = 30, num_rows = 6, num_cols = 5\n",
      "batch 5: len(batch) = 30, num_rows = 6, num_cols = 5\n"
     ]
    },
    {
     "name": "stderr",
     "output_type": "stream",
     "text": [
      "/Users/don/anaconda3/lib/python3.7/site-packages/matplotlib/cbook/__init__.py:1239: RuntimeWarning: invalid value encountered in less_equal\n",
      "  wiskhi = x[x <= hival]\n",
      "/Users/don/anaconda3/lib/python3.7/site-packages/matplotlib/cbook/__init__.py:1246: RuntimeWarning: invalid value encountered in greater_equal\n",
      "  wisklo = x[x >= loval]\n",
      "/Users/don/anaconda3/lib/python3.7/site-packages/matplotlib/cbook/__init__.py:1254: RuntimeWarning: invalid value encountered in less\n",
      "  x[x < stats['whislo']],\n",
      "/Users/don/anaconda3/lib/python3.7/site-packages/matplotlib/cbook/__init__.py:1255: RuntimeWarning: invalid value encountered in greater\n",
      "  x[x > stats['whishi']],\n"
     ]
    },
    {
     "name": "stdout",
     "output_type": "stream",
     "text": [
      "batch 6: len(batch) = 19, num_rows = 4, num_cols = 5\n",
      "Done in 27.56s\n"
     ]
    }
   ],
   "source": [
    "# Start plotting loop\n",
    "t0 = time.time()\n",
    "figs_ls = []\n",
    "\n",
    "batch_counter = 0 # Used for print() purposes only\n",
    "for batch in batches_ls:\n",
    "    num_cols = 5\n",
    "    num_rows = 6\n",
    "    \n",
    "    # Adjust num_rows and num_cols for the last batch as necessary\n",
    "    if len(batch) < (num_cols * num_rows):\n",
    "        if divmod(len(batch), num_cols)[1] > 0: # If there's a remainder\n",
    "            num_rows = divmod(len(batches_ls[-1]), num_cols)[0] + 1\n",
    "        else: # if the last batch so happens to be a multipe of num_cols (5)\n",
    "            num_rows = divmod(len(batches_ls[-1]), num_cols)[0]\n",
    "    print(\"batch %s: len(batch) = %s, num_rows = %s, num_cols = %s\" % (batch_counter, len(batch), num_rows, num_cols))\n",
    "    \n",
    "    # plot!\n",
    "    fig, axarr = plt.subplots(num_rows, num_cols, figsize=(20, 4.5*num_rows), sharex='col')\n",
    "\n",
    "    idx = 0\n",
    "    for i in np.arange(num_rows):\n",
    "        for j in np.arange(num_cols):\n",
    "            # Continue to proc if this is NOT the last batch\n",
    "            # OR if is it, check that idx < len(last_batch), \n",
    "            # because last_batch[idx] will throw an index-out-of-bounds error\n",
    "            if (len(batch) == 30) or ((len(batch) < 30) and (idx < len(batch))):\n",
    "                plot_input_arr = get_bplot_inputs(d0, groups_ls, batch[idx], group_colname=grp_name_col)\n",
    "                \n",
    "                # See note above on why num_rows > 1 and num_rows == 1 need different treatment\n",
    "                if num_rows > 1:\n",
    "                    axarr[i, j].set_title(batch[idx], fontsize=title_fontsize)\n",
    "                    bplot = axarr[i, j].boxplot(plot_input_arr, \n",
    "                                                patch_artist=True, \n",
    "                                                widths=tuple([0.85]*len(groups_ls)),\n",
    "                                                labels=groups_ls, \n",
    "                                                showfliers=False, \n",
    "                                                zorder=10)\n",
    "\n",
    "                    # Manually add scatterplot of datapoints\n",
    "                    for grp_idx in range(len(groups_ls)):\n",
    "                        scatter_y = plot_input_arr[grp_idx]\n",
    "                        scatter_x = np.random.normal(grp_idx+1, 0.04, size=len(scatter_y))\n",
    "                        axarr[i, j].scatter(scatter_x, scatter_y, c=\"black\", zorder=11, alpha=0.7)\n",
    "                        \n",
    "                    # Add bg colour on odd rows\n",
    "                    if i%2 == 0:\n",
    "                        axarr[i, j].set_facecolor('#EAF2F6')\n",
    "                        \n",
    "                    # Add grid\n",
    "                    axarr[i, j].grid(True)\n",
    "                    # Use scientific format for numbers\n",
    "                    axarr[i, j].ticklabel_format(axis=\"y\", scilimits=(0,0))\n",
    "                    # Rotate xtick labels\n",
    "                    for tck in axarr[i, j].get_xticklabels():\n",
    "                        tck.set_rotation(90)\n",
    "                    \n",
    "                # ========= Duplicate code ===========\n",
    "                # But this duplicate code is necessary because iterating by axarr[i,j] yields a syntax error\n",
    "                # For the special case where num_rows == 1, and matplotlib isn't smart enough to see this\n",
    "                elif num_rows == 1:\n",
    "                    axarr[j].set_title(batch[idx], fontsize=title_fontsize)\n",
    "                    bplot = axarr[j].boxplot(plot_input_arr, \n",
    "                                             patch_artist=True, \n",
    "                                             widths=tuple([0.85]*len(groups_ls)),\n",
    "                                             labels=groups_ls, \n",
    "                                             showfliers=False, \n",
    "                                             zorder=10)\n",
    "\n",
    "                    # Manually add scatterplot of datapoints\n",
    "                    for grp_idx in range(len(groups_ls)):\n",
    "                        scatter_y = plot_input_arr[grp_idx]\n",
    "                        scatter_x = np.random.normal(grp_idx+1, 0.04, size=len(scatter_y))\n",
    "                        axarr[j].scatter(scatter_x, scatter_y, c=\"black\", zorder=11, alpha=0.7)\n",
    "                        \n",
    "                    # Add grid\n",
    "                    axarr[j].grid(True)\n",
    "                    # Use scientific format for numbers\n",
    "                    axarr[j].ticklabel_format(axis=\"y\", scilimits=(0,0))\n",
    "\n",
    "                # Boxplot Aesthetics\n",
    "                for box_idx in range(len(bplot['boxes'])):\n",
    "                    bplot['medians'][box_idx].set_color('black')\n",
    "                    bplot['boxes'][box_idx].set(linewidth=1.5)\n",
    "\n",
    "                idx += 1\n",
    "                # colour in boxplots\n",
    "                for patch, color in zip(bplot['boxes'], colours_ls):\n",
    "                    patch.set_facecolor(color)\n",
    "\n",
    "    fig.subplots_adjust(wspace=0.125, hspace=0.12)\n",
    "    figs_ls.append(fig)\n",
    "    \n",
    "    plt.close()\n",
    "\n",
    "    batch_counter +=1\n",
    "\n",
    "print(\"Done in %.2fs\" % (time.time() - t0))"
   ]
  },
  {
   "cell_type": "markdown",
   "metadata": {},
   "source": [
    ">Note: different treatment of `num_row` > 1, or ==1, because iterating through the array object will change. More specifically, `axarr[i, j]` will throw a syntax error if `num_row` == 1; must use `axarr[j]`"
   ]
  },
  {
   "cell_type": "code",
   "execution_count": 4,
   "metadata": {},
   "outputs": [
    {
     "name": "stdout",
     "output_type": "stream",
     "text": [
      "Done in 42.75s\n"
     ]
    }
   ],
   "source": [
    "# print out boxplots in a multi-page pdf\n",
    "# This is the time-consuming step\n",
    "\n",
    "t0 = time.time()\n",
    "\n",
    "fn_out = \"/Users/don/Desktop/hamish-sebastian-boxplots.pdf\"\n",
    "pdf = matplotlib.backends.backend_pdf.PdfPages(fn_out)\n",
    "for fig in figs_ls:\n",
    "    pdf.savefig(fig, bbox_inches = 'tight')\n",
    "pdf.close()\n",
    "\n",
    "print(\"Done in %.2fs\" % (time.time() - t0))"
   ]
  },
  {
   "cell_type": "code",
   "execution_count": null,
   "metadata": {},
   "outputs": [],
   "source": []
  }
 ],
 "metadata": {
  "kernelspec": {
   "display_name": "Python 3",
   "language": "python",
   "name": "python3"
  },
  "language_info": {
   "codemirror_mode": {
    "name": "ipython",
    "version": 3
   },
   "file_extension": ".py",
   "mimetype": "text/x-python",
   "name": "python",
   "nbconvert_exporter": "python",
   "pygments_lexer": "ipython3",
   "version": "3.7.4"
  }
 },
 "nbformat": 4,
 "nbformat_minor": 4
}
